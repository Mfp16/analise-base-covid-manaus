{
 "metadata": {
  "language_info": {
   "codemirror_mode": {
    "name": "ipython",
    "version": 3
   },
   "file_extension": ".py",
   "mimetype": "text/x-python",
   "name": "python",
   "nbconvert_exporter": "python",
   "pygments_lexer": "ipython3",
   "version": 3
  },
  "orig_nbformat": 2,
  "kernelspec": {
   "name": "python_defaultSpec_1596799067635",
   "display_name": "Python 3.7.6 64-bit ('base': conda)"
  }
 },
 "nbformat": 4,
 "nbformat_minor": 2,
 "cells": [
  {
   "cell_type": "markdown",
   "metadata": {},
   "source": [
    "BIBLIOTECAS"
   ]
  },
  {
   "cell_type": "code",
   "execution_count": 1,
   "metadata": {},
   "outputs": [],
   "source": [
    "import pandas as pd \n",
    "import matplotlib.pyplot as plt\n",
    "import numpy as np"
   ]
  },
  {
   "cell_type": "markdown",
   "metadata": {},
   "source": [
    "LEITURA E TRATAMENTO DO DATASET"
   ]
  },
  {
   "cell_type": "code",
   "execution_count": 7,
   "metadata": {},
   "outputs": [
    {
     "output_type": "execute_result",
     "data": {
      "text/plain": "   _idade _faixa etária _sexo           _bairro _classificacao _comorb_renal  \\\n0    37.0     30a - 39a     F  CONJ. CIDADAO 10     Confirmado           Não   \n1    46.0     40a - 49a     F     MORADA DO SOL     Descartado           Não   \n\n  _comorb_diabetes _comorb_imuno _comorb_cardio  _conclusao  ... _distrito  \\\n0              Não           Não            Não         NaN  ...     OESTE   \n1              Não           Não            Não  Recuperado  ...       SUL   \n\n  _bairro_mapa _comorb_respiratoria _comorb_cromossomica _comorb_hepatica  \\\n0       TARUMÃ                  Não                  Não              NaN   \n1       ALEIXO                  Não                  Não              NaN   \n\n  _comorb_neurologica _comorb_hemato _comorb_obessidade    _origem _evolução  \n0                 NaN            NaN                NaN  eSUS VE,        NaN  \n1                 NaN            NaN                NaN  eSUS VE,        NaN  \n\n[2 rows x 36 columns]",
      "text/html": "<div>\n<style scoped>\n    .dataframe tbody tr th:only-of-type {\n        vertical-align: middle;\n    }\n\n    .dataframe tbody tr th {\n        vertical-align: top;\n    }\n\n    .dataframe thead th {\n        text-align: right;\n    }\n</style>\n<table border=\"1\" class=\"dataframe\">\n  <thead>\n    <tr style=\"text-align: right;\">\n      <th></th>\n      <th>_idade</th>\n      <th>_faixa etária</th>\n      <th>_sexo</th>\n      <th>_bairro</th>\n      <th>_classificacao</th>\n      <th>_comorb_renal</th>\n      <th>_comorb_diabetes</th>\n      <th>_comorb_imuno</th>\n      <th>_comorb_cardio</th>\n      <th>_conclusao</th>\n      <th>...</th>\n      <th>_distrito</th>\n      <th>_bairro_mapa</th>\n      <th>_comorb_respiratoria</th>\n      <th>_comorb_cromossomica</th>\n      <th>_comorb_hepatica</th>\n      <th>_comorb_neurologica</th>\n      <th>_comorb_hemato</th>\n      <th>_comorb_obessidade</th>\n      <th>_origem</th>\n      <th>_evolução</th>\n    </tr>\n  </thead>\n  <tbody>\n    <tr>\n      <th>0</th>\n      <td>37.0</td>\n      <td>30a - 39a</td>\n      <td>F</td>\n      <td>CONJ. CIDADAO 10</td>\n      <td>Confirmado</td>\n      <td>Não</td>\n      <td>Não</td>\n      <td>Não</td>\n      <td>Não</td>\n      <td>NaN</td>\n      <td>...</td>\n      <td>OESTE</td>\n      <td>TARUMÃ</td>\n      <td>Não</td>\n      <td>Não</td>\n      <td>NaN</td>\n      <td>NaN</td>\n      <td>NaN</td>\n      <td>NaN</td>\n      <td>eSUS VE,</td>\n      <td>NaN</td>\n    </tr>\n    <tr>\n      <th>1</th>\n      <td>46.0</td>\n      <td>40a - 49a</td>\n      <td>F</td>\n      <td>MORADA DO SOL</td>\n      <td>Descartado</td>\n      <td>Não</td>\n      <td>Não</td>\n      <td>Não</td>\n      <td>Não</td>\n      <td>Recuperado</td>\n      <td>...</td>\n      <td>SUL</td>\n      <td>ALEIXO</td>\n      <td>Não</td>\n      <td>Não</td>\n      <td>NaN</td>\n      <td>NaN</td>\n      <td>NaN</td>\n      <td>NaN</td>\n      <td>eSUS VE,</td>\n      <td>NaN</td>\n    </tr>\n  </tbody>\n</table>\n<p>2 rows × 36 columns</p>\n</div>"
     },
     "metadata": {},
     "execution_count": 7
    }
   ],
   "source": [
    "# Leitura do dataset\n",
    "df_covid = pd.read_csv(\"datasets/covid19_manaus.csv\", encoding = \"ISO-8859-1\", sep=';',header=0)\n",
    "df_covid.head(2)"
   ]
  },
  {
   "cell_type": "code",
   "execution_count": 8,
   "metadata": {
    "tags": []
   },
   "outputs": [
    {
     "output_type": "stream",
     "name": "stdout",
     "text": "<class 'pandas.core.frame.DataFrame'>\nRangeIndex: 108351 entries, 0 to 108350\nData columns (total 36 columns):\n #   Column                Non-Null Count   Dtype  \n---  ------                --------------   -----  \n 0   _idade                108230 non-null  float64\n 1   _faixa etária         108351 non-null  object \n 2   _sexo                 107551 non-null  object \n 3   _bairro               106223 non-null  object \n 4   _classificacao        108351 non-null  object \n 5   _comorb_renal         94992 non-null   object \n 6   _comorb_diabetes      95646 non-null   object \n 7   _comorb_imuno         94859 non-null   object \n 8   _comorb_cardio        95698 non-null   object \n 9   _conclusao            64812 non-null   object \n 10  _dt_notificacao       108340 non-null  object \n 11  _taxa                 102551 non-null  object \n 12  _dt_evolucao          39685 non-null   object \n 13  _raca                 83920 non-null   object \n 14  _dt_sintomas          104710 non-null  object \n 15  _criterio             8182 non-null    object \n 16  _tipo_teste           72500 non-null   object \n 17  _sintoma_garganta     98279 non-null   object \n 18  _sintoma_dispneia     99064 non-null   object \n 19  _sintoma_febre        99189 non-null   object \n 20  _sintoma_tosse        99132 non-null   object \n 21  _sintoma_outros       99133 non-null   object \n 22  _etnia                35 non-null      object \n 23  _profiss_saude        90083 non-null   object \n 24  _srag                 9016 non-null    object \n 25  _se_notificacao       108340 non-null  float64\n 26  _distrito             102551 non-null  object \n 27  _bairro_mapa          102551 non-null  object \n 28  _comorb_respiratoria  95003 non-null   object \n 29  _comorb_cromossomica  94890 non-null   object \n 30  _comorb_hepatica      3296 non-null    object \n 31  _comorb_neurologica   3373 non-null    object \n 32  _comorb_hemato        3341 non-null    object \n 33  _comorb_obessidade    3250 non-null    object \n 34  _origem               108351 non-null  object \n 35  _evolução             12462 non-null   object \ndtypes: float64(2), object(34)\nmemory usage: 29.8+ MB\n"
    }
   ],
   "source": [
    "# Log de informações do dataframe\n",
    "df_covid.info()"
   ]
  },
  {
   "cell_type": "code",
   "execution_count": 14,
   "metadata": {
    "tags": []
   },
   "outputs": [
    {
     "output_type": "execute_result",
     "data": {
      "text/plain": "   _idade _faixa etária _sexo           _bairro _classificacao _comorb_renal  \\\n0    37.0     30a - 39a     F  CONJ. CIDADAO 10     Confirmado           Não   \n2    51.0     50a - 59a     F               NaN     Confirmado           Não   \n\n  _comorb_diabetes _comorb_imuno _comorb_cardio _conclusao  ... _distrito  \\\n0              Não           Não            Não        NaN  ...     OESTE   \n2              Não           Não            Não        NaN  ...       NaN   \n\n  _bairro_mapa _comorb_respiratoria _comorb_cromossomica _comorb_hepatica  \\\n0       TARUMÃ                  Não                  Não              NaN   \n2          NaN                  Não                  Não              NaN   \n\n  _comorb_neurologica _comorb_hemato _comorb_obessidade    _origem _evolução  \n0                 NaN            NaN                NaN  eSUS VE,        NaN  \n2                 NaN            NaN                NaN  eSUS VE,        NaN  \n\n[2 rows x 36 columns]",
      "text/html": "<div>\n<style scoped>\n    .dataframe tbody tr th:only-of-type {\n        vertical-align: middle;\n    }\n\n    .dataframe tbody tr th {\n        vertical-align: top;\n    }\n\n    .dataframe thead th {\n        text-align: right;\n    }\n</style>\n<table border=\"1\" class=\"dataframe\">\n  <thead>\n    <tr style=\"text-align: right;\">\n      <th></th>\n      <th>_idade</th>\n      <th>_faixa etária</th>\n      <th>_sexo</th>\n      <th>_bairro</th>\n      <th>_classificacao</th>\n      <th>_comorb_renal</th>\n      <th>_comorb_diabetes</th>\n      <th>_comorb_imuno</th>\n      <th>_comorb_cardio</th>\n      <th>_conclusao</th>\n      <th>...</th>\n      <th>_distrito</th>\n      <th>_bairro_mapa</th>\n      <th>_comorb_respiratoria</th>\n      <th>_comorb_cromossomica</th>\n      <th>_comorb_hepatica</th>\n      <th>_comorb_neurologica</th>\n      <th>_comorb_hemato</th>\n      <th>_comorb_obessidade</th>\n      <th>_origem</th>\n      <th>_evolução</th>\n    </tr>\n  </thead>\n  <tbody>\n    <tr>\n      <th>0</th>\n      <td>37.0</td>\n      <td>30a - 39a</td>\n      <td>F</td>\n      <td>CONJ. CIDADAO 10</td>\n      <td>Confirmado</td>\n      <td>Não</td>\n      <td>Não</td>\n      <td>Não</td>\n      <td>Não</td>\n      <td>NaN</td>\n      <td>...</td>\n      <td>OESTE</td>\n      <td>TARUMÃ</td>\n      <td>Não</td>\n      <td>Não</td>\n      <td>NaN</td>\n      <td>NaN</td>\n      <td>NaN</td>\n      <td>NaN</td>\n      <td>eSUS VE,</td>\n      <td>NaN</td>\n    </tr>\n    <tr>\n      <th>2</th>\n      <td>51.0</td>\n      <td>50a - 59a</td>\n      <td>F</td>\n      <td>NaN</td>\n      <td>Confirmado</td>\n      <td>Não</td>\n      <td>Não</td>\n      <td>Não</td>\n      <td>Não</td>\n      <td>NaN</td>\n      <td>...</td>\n      <td>NaN</td>\n      <td>NaN</td>\n      <td>Não</td>\n      <td>Não</td>\n      <td>NaN</td>\n      <td>NaN</td>\n      <td>NaN</td>\n      <td>NaN</td>\n      <td>eSUS VE,</td>\n      <td>NaN</td>\n    </tr>\n  </tbody>\n</table>\n<p>2 rows × 36 columns</p>\n</div>"
     },
     "metadata": {},
     "execution_count": 14
    }
   ],
   "source": [
    "# Filtrando apenas os casos confirmados\n",
    "df_confirmado = filtrar_confirmados(df_covid)\n",
    "df_confirmado.head(2)"
   ]
  },
  {
   "cell_type": "code",
   "execution_count": 74,
   "metadata": {
    "tags": []
   },
   "outputs": [
    {
     "output_type": "stream",
     "name": "stdout",
     "text": "<class 'pandas.core.frame.DataFrame'>\nInt64Index: 6214 entries, 680 to 108349\nData columns (total 10 columns):\n #   Column           Non-Null Count  Dtype  \n---  ------           --------------  -----  \n 0   _idade           6214 non-null   float64\n 1   _faixa etária    6214 non-null   object \n 2   _sexo            6214 non-null   object \n 3   _bairro          6214 non-null   object \n 4   _classificacao   6214 non-null   object \n 5   _conclusao       6214 non-null   object \n 6   _dt_notificacao  6214 non-null   object \n 7   _tipo_teste      6214 non-null   object \n 8   _distrito        6214 non-null   object \n 9   _bairro_mapa     6214 non-null   object \ndtypes: float64(1), object(9)\nmemory usage: 534.0+ KB\n"
    }
   ],
   "source": [
    "# Exclusão de colunas desnecessárias para análise e posteriormente de linhas com colunas vazias\n",
    "df_tratado = excluir_colunas(df_confirmado)\n",
    "df_tratado = excluir_linhas(df_tratado)\n",
    "df_tratado.info()"
   ]
  },
  {
   "cell_type": "code",
   "execution_count": 75,
   "metadata": {},
   "outputs": [],
   "source": [
    "# Salvando em arquivo\n",
    "df_confirmado.to_csv(\"outputs/base_covid_confirmado.csv\", sep=\";\", index=False, header=True, encoding=\"ISO-8859-1\")\n",
    "df_tratado.to_csv(\"outputs/base_covid_tratada.csv\", sep=\";\", index=False, header=True, encoding=\"ISO-8859-1\")"
   ]
  },
  {
   "cell_type": "markdown",
   "metadata": {},
   "source": [
    "FUNÇÕES E MÉTODOS"
   ]
  },
  {
   "cell_type": "code",
   "execution_count": 9,
   "metadata": {},
   "outputs": [],
   "source": [
    "# Função para filtrar apenas confirmados\n",
    "def filtrar_confirmados(df):\n",
    "    df_filtrado = df[(df['_classificacao'] == 'Confirmado')]\n",
    "    return df_filtrado"
   ]
  },
  {
   "cell_type": "code",
   "execution_count": 17,
   "metadata": {},
   "outputs": [],
   "source": [
    "# Função para excluir as colunas desnecessárias da análise\n",
    "def excluir_colunas(df):\n",
    "    df_tratado = df.drop(columns=[\"_comorb_renal\",\t\"_comorb_diabetes\",\t\"_comorb_imuno\", \"_comorb_cardio\", \"_taxa\", \"_dt_evolucao\",\t\"_raca\", \"_dt_sintomas\", \"_criterio\", \"_sintoma_garganta\", \"_sintoma_dispneia\", \"_sintoma_febre\", \"_sintoma_tosse\", \"_sintoma_outros\", \"_etnia\", \"_profiss_saude\", \"_srag\", \"_se_notificacao\", \"_comorb_respiratoria\", \"_comorb_cromossomica\", \"_comorb_hepatica\",\t\"_comorb_neurologica\", \"_comorb_hemato\", \"_comorb_obessidade\", \"_origem\",\"_evolução\"])\n",
    "    return df_tratado"
   ]
  },
  {
   "cell_type": "code",
   "execution_count": 73,
   "metadata": {},
   "outputs": [],
   "source": [
    "# Função para excluir linhas onde há alguma coluna vazia\n",
    "def excluir_linhas(df):\n",
    "    df_tratado = df.dropna()\n",
    "    return df_tratado"
   ]
  },
  {
   "cell_type": "code",
   "execution_count": null,
   "metadata": {},
   "outputs": [],
   "source": []
  }
 ]
}