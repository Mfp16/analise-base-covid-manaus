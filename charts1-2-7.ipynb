{
 "cells": [
  {
   "cell_type": "code",
   "execution_count": 2,
   "metadata": {},
   "outputs": [],
   "source": [
    "import numpy as np\n",
    "import pandas as pd\n",
    "import matplotlib.pyplot as plt\n",
    "import os"
   ]
  },
  {
   "cell_type": "code",
   "execution_count": 3,
   "metadata": {},
   "outputs": [],
   "source": [
    "data = pd.read_csv(os.path.join('outputs', 'base_covid_tratada.csv'), encoding='ISO-8859-1', sep=';', header=0)"
   ]
  },
  {
   "cell_type": "code",
   "execution_count": 4,
   "metadata": {},
   "outputs": [
    {
     "data": {
      "text/html": [
       "<div>\n",
       "<style scoped>\n",
       "    .dataframe tbody tr th:only-of-type {\n",
       "        vertical-align: middle;\n",
       "    }\n",
       "\n",
       "    .dataframe tbody tr th {\n",
       "        vertical-align: top;\n",
       "    }\n",
       "\n",
       "    .dataframe thead th {\n",
       "        text-align: right;\n",
       "    }\n",
       "</style>\n",
       "<table border=\"1\" class=\"dataframe\">\n",
       "  <thead>\n",
       "    <tr style=\"text-align: right;\">\n",
       "      <th></th>\n",
       "      <th>_idade</th>\n",
       "      <th>_faixa etária</th>\n",
       "      <th>_sexo</th>\n",
       "      <th>_bairro</th>\n",
       "      <th>_classificacao</th>\n",
       "      <th>_conclusao</th>\n",
       "      <th>_dt_notificacao</th>\n",
       "      <th>_tipo_teste</th>\n",
       "      <th>_distrito</th>\n",
       "      <th>_bairro_mapa</th>\n",
       "    </tr>\n",
       "  </thead>\n",
       "  <tbody>\n",
       "    <tr>\n",
       "      <th>0</th>\n",
       "      <td>25.0</td>\n",
       "      <td>20a - 29a</td>\n",
       "      <td>F</td>\n",
       "      <td>ADRIANOPOLIS</td>\n",
       "      <td>Confirmado</td>\n",
       "      <td>Recuperado</td>\n",
       "      <td>20/03/2020</td>\n",
       "      <td>RT-PCR</td>\n",
       "      <td>SUL</td>\n",
       "      <td>ADRIANÓPOLIS</td>\n",
       "    </tr>\n",
       "    <tr>\n",
       "      <th>1</th>\n",
       "      <td>41.0</td>\n",
       "      <td>40a - 49a</td>\n",
       "      <td>F</td>\n",
       "      <td>BETANIA</td>\n",
       "      <td>Confirmado</td>\n",
       "      <td>Recuperado</td>\n",
       "      <td>27/03/2020</td>\n",
       "      <td>RT-PCR</td>\n",
       "      <td>SUL</td>\n",
       "      <td>BETÂNIA</td>\n",
       "    </tr>\n",
       "    <tr>\n",
       "      <th>2</th>\n",
       "      <td>40.0</td>\n",
       "      <td>40a - 49a</td>\n",
       "      <td>F</td>\n",
       "      <td>DOM PEDRO</td>\n",
       "      <td>Confirmado</td>\n",
       "      <td>Recuperado</td>\n",
       "      <td>20/04/2020</td>\n",
       "      <td>TESTE RÁPIDO - ANTICORPO</td>\n",
       "      <td>OESTE</td>\n",
       "      <td>DOM PEDRO</td>\n",
       "    </tr>\n",
       "    <tr>\n",
       "      <th>3</th>\n",
       "      <td>50.0</td>\n",
       "      <td>50a - 59a</td>\n",
       "      <td>M</td>\n",
       "      <td>FLORES</td>\n",
       "      <td>Confirmado</td>\n",
       "      <td>Recuperado</td>\n",
       "      <td>24/04/2020</td>\n",
       "      <td>RT-PCR</td>\n",
       "      <td>SUL</td>\n",
       "      <td>FLORES</td>\n",
       "    </tr>\n",
       "    <tr>\n",
       "      <th>4</th>\n",
       "      <td>30.0</td>\n",
       "      <td>30a - 39a</td>\n",
       "      <td>M</td>\n",
       "      <td>PRESIDENTE VARGAS</td>\n",
       "      <td>Confirmado</td>\n",
       "      <td>Recuperado</td>\n",
       "      <td>23/04/2020</td>\n",
       "      <td>TESTE RÁPIDO - ANTÍGENO</td>\n",
       "      <td>SUL</td>\n",
       "      <td>PRESIDENTE VARGAS</td>\n",
       "    </tr>\n",
       "  </tbody>\n",
       "</table>\n",
       "</div>"
      ],
      "text/plain": [
       "   _idade _faixa etária _sexo            _bairro _classificacao  _conclusao  \\\n",
       "0    25.0     20a - 29a     F       ADRIANOPOLIS     Confirmado  Recuperado   \n",
       "1    41.0     40a - 49a     F            BETANIA     Confirmado  Recuperado   \n",
       "2    40.0     40a - 49a     F          DOM PEDRO     Confirmado  Recuperado   \n",
       "3    50.0     50a - 59a     M             FLORES     Confirmado  Recuperado   \n",
       "4    30.0     30a - 39a     M  PRESIDENTE VARGAS     Confirmado  Recuperado   \n",
       "\n",
       "  _dt_notificacao               _tipo_teste _distrito       _bairro_mapa  \n",
       "0      20/03/2020                    RT-PCR       SUL       ADRIANÓPOLIS  \n",
       "1      27/03/2020                    RT-PCR       SUL            BETÂNIA  \n",
       "2      20/04/2020  TESTE RÁPIDO - ANTICORPO     OESTE          DOM PEDRO  \n",
       "3      24/04/2020                    RT-PCR       SUL             FLORES  \n",
       "4      23/04/2020   TESTE RÁPIDO - ANTÍGENO       SUL  PRESIDENTE VARGAS  "
      ]
     },
     "execution_count": 4,
     "metadata": {},
     "output_type": "execute_result"
    }
   ],
   "source": [
    "data.head()"
   ]
  },
  {
   "cell_type": "markdown",
   "metadata": {},
   "source": [
    "## 2.2 Visualização de Dados"
   ]
  },
  {
   "cell_type": "markdown",
   "metadata": {},
   "source": [
    "### 1. Construa um histograma denotando a quantidade de casos nos 10 bairros em que houve mais casos registrados. Inclua todos os bairros remanescentes em uma categoria denominada “Outros.” Denote as informações de maneira percentual."
   ]
  },
  {
   "cell_type": "code",
   "execution_count": 5,
   "metadata": {},
   "outputs": [],
   "source": [
    "bairros_lista = data.groupby('_bairro_mapa')['_bairro_mapa'].describe().reset_index().sort_values(by='count', ascending=False).head(10)['_bairro_mapa'].to_list()\n",
    "casos = data.copy(deep=True)"
   ]
  },
  {
   "cell_type": "code",
   "execution_count": 6,
   "metadata": {},
   "outputs": [],
   "source": [
    "casos.loc[~casos['_bairro_mapa'].isin(bairros_lista), '_bairro_mapa'] = 'OUTROS'\n",
    "bairros = casos.groupby('_bairro_mapa')['_bairro_mapa'].describe().reset_index().sort_values(by='count', ascending=True)"
   ]
  },
  {
   "cell_type": "code",
   "execution_count": 7,
   "metadata": {},
   "outputs": [],
   "source": [
    "bairros['_porcentagem'] = (bairros['count'] / data.shape[0]) * 100"
   ]
  },
  {
   "cell_type": "code",
   "execution_count": 8,
   "metadata": {},
   "outputs": [
    {
     "data": {
      "text/html": [
       "<div>\n",
       "<style scoped>\n",
       "    .dataframe tbody tr th:only-of-type {\n",
       "        vertical-align: middle;\n",
       "    }\n",
       "\n",
       "    .dataframe tbody tr th {\n",
       "        vertical-align: top;\n",
       "    }\n",
       "\n",
       "    .dataframe thead th {\n",
       "        text-align: right;\n",
       "    }\n",
       "</style>\n",
       "<table border=\"1\" class=\"dataframe\">\n",
       "  <thead>\n",
       "    <tr style=\"text-align: right;\">\n",
       "      <th></th>\n",
       "      <th>_bairro_mapa</th>\n",
       "      <th>count</th>\n",
       "      <th>unique</th>\n",
       "      <th>top</th>\n",
       "      <th>freq</th>\n",
       "      <th>_porcentagem</th>\n",
       "    </tr>\n",
       "  </thead>\n",
       "  <tbody>\n",
       "    <tr>\n",
       "      <th>4</th>\n",
       "      <td>JAPIIM</td>\n",
       "      <td>184</td>\n",
       "      <td>1</td>\n",
       "      <td>JAPIIM</td>\n",
       "      <td>184</td>\n",
       "      <td>2.96106</td>\n",
       "    </tr>\n",
       "    <tr>\n",
       "      <th>8</th>\n",
       "      <td>PETRÓPOLIS</td>\n",
       "      <td>199</td>\n",
       "      <td>1</td>\n",
       "      <td>PETRÓPOLIS</td>\n",
       "      <td>199</td>\n",
       "      <td>3.20245</td>\n",
       "    </tr>\n",
       "    <tr>\n",
       "      <th>5</th>\n",
       "      <td>NOVO ALEIXO</td>\n",
       "      <td>214</td>\n",
       "      <td>1</td>\n",
       "      <td>NOVO ALEIXO</td>\n",
       "      <td>214</td>\n",
       "      <td>3.44384</td>\n",
       "    </tr>\n",
       "    <tr>\n",
       "      <th>2</th>\n",
       "      <td>COMPENSA</td>\n",
       "      <td>234</td>\n",
       "      <td>1</td>\n",
       "      <td>COMPENSA</td>\n",
       "      <td>234</td>\n",
       "      <td>3.76569</td>\n",
       "    </tr>\n",
       "    <tr>\n",
       "      <th>10</th>\n",
       "      <td>TARUMÃ</td>\n",
       "      <td>235</td>\n",
       "      <td>1</td>\n",
       "      <td>TARUMÃ</td>\n",
       "      <td>235</td>\n",
       "      <td>3.78178</td>\n",
       "    </tr>\n",
       "    <tr>\n",
       "      <th>7</th>\n",
       "      <td>PARQUE 10 DE NOVEMBRO</td>\n",
       "      <td>246</td>\n",
       "      <td>1</td>\n",
       "      <td>PARQUE 10 DE NOVEMBRO</td>\n",
       "      <td>246</td>\n",
       "      <td>3.9588</td>\n",
       "    </tr>\n",
       "    <tr>\n",
       "      <th>0</th>\n",
       "      <td>ALVORADA</td>\n",
       "      <td>253</td>\n",
       "      <td>1</td>\n",
       "      <td>ALVORADA</td>\n",
       "      <td>253</td>\n",
       "      <td>4.07145</td>\n",
       "    </tr>\n",
       "    <tr>\n",
       "      <th>9</th>\n",
       "      <td>SÃO JOSÉ OPERÁRIO</td>\n",
       "      <td>259</td>\n",
       "      <td>1</td>\n",
       "      <td>SÃO JOSÉ OPERÁRIO</td>\n",
       "      <td>259</td>\n",
       "      <td>4.16801</td>\n",
       "    </tr>\n",
       "    <tr>\n",
       "      <th>3</th>\n",
       "      <td>FLORES</td>\n",
       "      <td>295</td>\n",
       "      <td>1</td>\n",
       "      <td>FLORES</td>\n",
       "      <td>295</td>\n",
       "      <td>4.74734</td>\n",
       "    </tr>\n",
       "    <tr>\n",
       "      <th>1</th>\n",
       "      <td>CIDADE NOVA</td>\n",
       "      <td>446</td>\n",
       "      <td>1</td>\n",
       "      <td>CIDADE NOVA</td>\n",
       "      <td>446</td>\n",
       "      <td>7.17734</td>\n",
       "    </tr>\n",
       "    <tr>\n",
       "      <th>6</th>\n",
       "      <td>OUTROS</td>\n",
       "      <td>3649</td>\n",
       "      <td>1</td>\n",
       "      <td>OUTROS</td>\n",
       "      <td>3649</td>\n",
       "      <td>58.7222</td>\n",
       "    </tr>\n",
       "  </tbody>\n",
       "</table>\n",
       "</div>"
      ],
      "text/plain": [
       "             _bairro_mapa count unique                    top  freq  \\\n",
       "4                  JAPIIM   184      1                 JAPIIM   184   \n",
       "8              PETRÓPOLIS   199      1             PETRÓPOLIS   199   \n",
       "5             NOVO ALEIXO   214      1            NOVO ALEIXO   214   \n",
       "2                COMPENSA   234      1               COMPENSA   234   \n",
       "10                 TARUMÃ   235      1                 TARUMÃ   235   \n",
       "7   PARQUE 10 DE NOVEMBRO   246      1  PARQUE 10 DE NOVEMBRO   246   \n",
       "0                ALVORADA   253      1               ALVORADA   253   \n",
       "9       SÃO JOSÉ OPERÁRIO   259      1      SÃO JOSÉ OPERÁRIO   259   \n",
       "3                  FLORES   295      1                 FLORES   295   \n",
       "1             CIDADE NOVA   446      1            CIDADE NOVA   446   \n",
       "6                  OUTROS  3649      1                 OUTROS  3649   \n",
       "\n",
       "   _porcentagem  \n",
       "4       2.96106  \n",
       "8       3.20245  \n",
       "5       3.44384  \n",
       "2       3.76569  \n",
       "10      3.78178  \n",
       "7        3.9588  \n",
       "0       4.07145  \n",
       "9       4.16801  \n",
       "3       4.74734  \n",
       "1       7.17734  \n",
       "6       58.7222  "
      ]
     },
     "execution_count": 8,
     "metadata": {},
     "output_type": "execute_result"
    }
   ],
   "source": [
    "bairros"
   ]
  },
  {
   "cell_type": "code",
   "execution_count": 9,
   "metadata": {},
   "outputs": [
    {
     "data": {
      "image/png": "[encoded data removed]",
      "text/plain": [
       "<Figure size 1800x720 with 1 Axes>"
      ]
     },
     "metadata": {
      "needs_background": "light"
     },
     "output_type": "display_data"
    }
   ],
   "source": [
    "plt.figure(figsize=(25,10))\n",
    "plt.bar(bairros['_bairro_mapa'], bairros['_porcentagem'], color='gray')\n",
    "plt.title('Quantidade de Casos')\n",
    "plt.xlabel('Bairros')\n",
    "plt.ylabel('Quantidade (%)')\n",
    "plt.savefig('questao1.jpg')"
   ]
  },
  {
   "cell_type": "markdown",
   "metadata": {},
   "source": [
    "### 2. Denote, por sexo, o boxplot da idade dos casos confirmados. Há outliers?"
   ]
  },
  {
   "cell_type": "code",
   "execution_count": 10,
   "metadata": {},
   "outputs": [],
   "source": [
    "mas = data[data['_sexo'] == 'M']\n",
    "fem = data[data['_sexo'] == 'F']"
   ]
  },
  {
   "cell_type": "code",
   "execution_count": 12,
   "metadata": {},
   "outputs": [
    {
     "data": {
      "image/png": "[encoded data removed]",
      "text/plain": [
       "<Figure size 1080x1080 with 1 Axes>"
      ]
     },
     "metadata": {
      "needs_background": "light"
     },
     "output_type": "display_data"
    }
   ],
   "source": [
    "plt.figure(figsize=(15,15))\n",
    "bx = plt.boxplot([mas['_idade'], fem['_idade']], labels=['Masculino', 'Feminino'])\n",
    "for element in ['boxes', 'whiskers','fliers','means','medians', 'caps']:\n",
    "    plt.setp(bx[element], color='gray')\n",
    "plt.title('Boxplot da Idade dos Casos Confirmados')\n",
    "plt.xlabel('Sexo')\n",
    "plt.ylabel('Idade')\n",
    "plt.savefig('questao2.jpg')"
   ]
  },
  {
   "cell_type": "markdown",
   "metadata": {},
   "source": [
    "### Sim, existem elementos que estão fora dos limites do diagrama."
   ]
  },
  {
   "cell_type": "markdown",
   "metadata": {},
   "source": [
    "### 7. Faça um gráfico do tipo scatterplot que denote a idade versus o número total de casos registrado para aquela idade. Aproveite o processamento efetuado para o cálculo da correlação. É possível observar alguma tendência?"
   ]
  },
  {
   "cell_type": "code",
   "execution_count": 14,
   "metadata": {},
   "outputs": [
    {
     "data": {
      "text/html": [
       "<div>\n",
       "<style scoped>\n",
       "    .dataframe tbody tr th:only-of-type {\n",
       "        vertical-align: middle;\n",
       "    }\n",
       "\n",
       "    .dataframe tbody tr th {\n",
       "        vertical-align: top;\n",
       "    }\n",
       "\n",
       "    .dataframe thead th {\n",
       "        text-align: right;\n",
       "    }\n",
       "</style>\n",
       "<table border=\"1\" class=\"dataframe\">\n",
       "  <thead>\n",
       "    <tr style=\"text-align: right;\">\n",
       "      <th></th>\n",
       "      <th>_idade</th>\n",
       "      <th>count</th>\n",
       "    </tr>\n",
       "  </thead>\n",
       "  <tbody>\n",
       "    <tr>\n",
       "      <th>_idade</th>\n",
       "      <td>1.00000</td>\n",
       "      <td>-0.22462</td>\n",
       "    </tr>\n",
       "    <tr>\n",
       "      <th>count</th>\n",
       "      <td>-0.22462</td>\n",
       "      <td>1.00000</td>\n",
       "    </tr>\n",
       "  </tbody>\n",
       "</table>\n",
       "</div>"
      ],
      "text/plain": [
       "         _idade    count\n",
       "_idade  1.00000 -0.22462\n",
       "count  -0.22462  1.00000"
      ]
     },
     "execution_count": 14,
     "metadata": {},
     "output_type": "execute_result"
    }
   ],
   "source": [
    "corr = data.groupby('_idade')['_idade'].describe().reset_index()\n",
    "corr[['_idade', 'count']].corr()"
   ]
  },
  {
   "cell_type": "code",
   "execution_count": null,
   "metadata": {},
   "outputs": [],
   "source": []
  }
 ],
 "metadata": {
  "kernelspec": {
   "display_name": "venv",
   "language": "python",
   "name": "venv"
  },
  "language_info": {
   "codemirror_mode": {
    "name": "ipython",
    "version": 3
   },
   "file_extension": ".py",
   "mimetype": "text/x-python",
   "name": "python",
   "nbconvert_exporter": "python",
   "pygments_lexer": "ipython3",
   "version": "3.7.0"
  }
 },
 "nbformat": 4,
 "nbformat_minor": 4
}
