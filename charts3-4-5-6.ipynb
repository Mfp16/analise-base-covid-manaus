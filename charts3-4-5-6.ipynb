{
 "cells": [
  {
   "cell_type": "markdown",
   "metadata": {},
   "source": [
    "# 2.2 Visualização de Dados\n",
    "## BIBLIOTECAS"
   ]
  },
  {
   "cell_type": "code",
   "execution_count": 1,
   "metadata": {},
   "outputs": [],
   "source": [
    "import pandas as pd \n",
    "import matplotlib.pyplot as plt\n",
    "import numpy as np\n",
    "import datetime as dt"
   ]
  },
  {
   "cell_type": "markdown",
   "metadata": {},
   "source": [
    "## LEITURA DO DATASET"
   ]
  },
  {
   "cell_type": "code",
   "execution_count": 2,
   "metadata": {},
   "outputs": [
    {
     "data": {
      "text/html": [
       "<div>\n",
       "<style scoped>\n",
       "    .dataframe tbody tr th:only-of-type {\n",
       "        vertical-align: middle;\n",
       "    }\n",
       "\n",
       "    .dataframe tbody tr th {\n",
       "        vertical-align: top;\n",
       "    }\n",
       "\n",
       "    .dataframe thead th {\n",
       "        text-align: right;\n",
       "    }\n",
       "</style>\n",
       "<table border=\"1\" class=\"dataframe\">\n",
       "  <thead>\n",
       "    <tr style=\"text-align: right;\">\n",
       "      <th></th>\n",
       "      <th>_idade</th>\n",
       "      <th>_faixa etária</th>\n",
       "      <th>_sexo</th>\n",
       "      <th>_bairro</th>\n",
       "      <th>_classificacao</th>\n",
       "      <th>_conclusao</th>\n",
       "      <th>_dt_notificacao</th>\n",
       "      <th>_tipo_teste</th>\n",
       "      <th>_distrito</th>\n",
       "      <th>_bairro_mapa</th>\n",
       "    </tr>\n",
       "  </thead>\n",
       "  <tbody>\n",
       "    <tr>\n",
       "      <th>0</th>\n",
       "      <td>25.0</td>\n",
       "      <td>20a - 29a</td>\n",
       "      <td>F</td>\n",
       "      <td>ADRIANOPOLIS</td>\n",
       "      <td>Confirmado</td>\n",
       "      <td>Recuperado</td>\n",
       "      <td>20/03/2020</td>\n",
       "      <td>RT-PCR</td>\n",
       "      <td>SUL</td>\n",
       "      <td>ADRIANÓPOLIS</td>\n",
       "    </tr>\n",
       "    <tr>\n",
       "      <th>1</th>\n",
       "      <td>41.0</td>\n",
       "      <td>40a - 49a</td>\n",
       "      <td>F</td>\n",
       "      <td>BETANIA</td>\n",
       "      <td>Confirmado</td>\n",
       "      <td>Recuperado</td>\n",
       "      <td>27/03/2020</td>\n",
       "      <td>RT-PCR</td>\n",
       "      <td>SUL</td>\n",
       "      <td>BETÂNIA</td>\n",
       "    </tr>\n",
       "  </tbody>\n",
       "</table>\n",
       "</div>"
      ],
      "text/plain": [
       "   _idade _faixa etária _sexo       _bairro _classificacao  _conclusao  \\\n",
       "0    25.0     20a - 29a     F  ADRIANOPOLIS     Confirmado  Recuperado   \n",
       "1    41.0     40a - 49a     F       BETANIA     Confirmado  Recuperado   \n",
       "\n",
       "  _dt_notificacao _tipo_teste _distrito  _bairro_mapa  \n",
       "0      20/03/2020      RT-PCR       SUL  ADRIANÓPOLIS  \n",
       "1      27/03/2020      RT-PCR       SUL       BETÂNIA  "
      ]
     },
     "execution_count": 2,
     "metadata": {},
     "output_type": "execute_result"
    }
   ],
   "source": [
    "#leitura do dataset de casos confirmados\n",
    "confirmed_cases = pd.read_csv(\"outputs/base_covid_tratada.csv\", encoding = \"ISO-8859-1\", sep=';',header=0)\n",
    "confirmed_cases.head(2)"
   ]
  },
  {
   "cell_type": "markdown",
   "metadata": {},
   "source": [
    "## Visualização dos Dados"
   ]
  },
  {
   "cell_type": "markdown",
   "metadata": {},
   "source": [
    "### 3. Número de novos casos nos últimos 10 dias"
   ]
  },
  {
   "cell_type": "code",
   "execution_count": 49,
   "metadata": {
    "tags": []
   },
   "outputs": [
    {
     "name": "stderr",
     "output_type": "stream",
     "text": [
      "d:\\programas\\python\\python37\\lib\\site-packages\\ipykernel_launcher.py:26: UserWarning: FixedFormatter should only be used together with FixedLocator\n"
     ]
    },
    {
     "data": {
      "image/png": "[encoded data removed]",
      "text/plain": [
       "<Figure size 936x288 with 1 Axes>"
      ]
     },
     "metadata": {
      "needs_background": "light"
     },
     "output_type": "display_data"
    }
   ],
   "source": [
    "# configuracao da base de dados\n",
    "data = confirmed_cases\n",
    "data['_dt_notificacao'] = pd.to_datetime(data['_dt_notificacao'], format=\"%d/%m/%Y\").dropna()\n",
    "\n",
    "# captura da data mais recente\n",
    "date_groups = data.groupby('_dt_notificacao')\n",
    "group_counts = date_groups.count()[-10:]\n",
    "\n",
    "new_cases = []\n",
    "dates = []\n",
    "\n",
    "for index in group_counts.index:\n",
    "    dates.append(index.strftime(\"%d/%m/%Y\"))\n",
    "    new_cases.append(date_groups.get_group(index).shape[0])\n",
    "\n",
    "# configuracao de construcao do grafico\n",
    "width = 0.5\n",
    "fig = plt.figure(figsize=(13,4))\n",
    "ax = fig.add_axes([0,0,1,1])\n",
    "rects = ax.bar(dates, new_cases, width, color=(0.4, 0.4, 0.4, 0.6))\n",
    "plt.xlabel('Datas', fontsize=12)\n",
    "plt.ylabel('Quantidade de novos casos', fontsize=12)\n",
    "plt.title('Figura 3: Número de novos casos nos últimos 10 dias', fontsize=14)\n",
    "for label in (ax.get_xticklabels() + ax.get_yticklabels()):\n",
    "    label.set_fontsize(12)\n",
    "ax.set_xticklabels(dates)\n",
    "\n",
    "def autolabel(rects):\n",
    "    for rect in rects:\n",
    "        height = rect.get_height()\n",
    "        ax.annotate('{}'.format(height),\n",
    "                    xy=(rect.get_x() + rect.get_width() / 2, height),\n",
    "                    xytext=(0,1.5),\n",
    "                    textcoords=\"offset points\",\n",
    "                    ha='center', va='bottom')\n",
    "\n",
    "autolabel(rects)\n",
    "plt.show()"
   ]
  },
  {
   "cell_type": "markdown",
   "metadata": {},
   "source": [
    "### 4: Número de casos recuperados nos últimos 10 dias"
   ]
  },
  {
   "cell_type": "code",
   "execution_count": 51,
   "metadata": {
    "tags": []
   },
   "outputs": [
    {
     "name": "stderr",
     "output_type": "stream",
     "text": [
      "d:\\programas\\python\\python37\\lib\\site-packages\\ipykernel_launcher.py:18: UserWarning: FixedFormatter should only be used together with FixedLocator\n"
     ]
    },
    {
     "data": {
      "image/png": "[encoded data removed]",
      "text/plain": [
       "<Figure size 936x288 with 1 Axes>"
      ]
     },
     "metadata": {
      "needs_background": "light"
     },
     "output_type": "display_data"
    }
   ],
   "source": [
    "new_cases = []\n",
    "\n",
    "for index in group_counts.index:\n",
    "    group_data = date_groups.get_group(index)\n",
    "    group_data = group_data[group_data['_conclusao'] == 'Recuperado']\n",
    "    new_cases.append(group_data.shape[0])\n",
    "\n",
    "# configuracao de construcao do grafico\n",
    "width = 0.5\n",
    "fig = plt.figure(figsize=(13,4))\n",
    "ax = fig.add_axes([0,0,1,1])\n",
    "rects = ax.bar(dates, new_cases, width, color=(0.4, 0.4, 0.4, 0.6))\n",
    "plt.xlabel('Datas', fontsize=12)\n",
    "plt.ylabel('Quantidade de casos recuperados', fontsize=12)\n",
    "plt.title('Figura 4: Número de casos recuperados nos últimos 10 dias', fontsize=14)\n",
    "for label in (ax.get_xticklabels() + ax.get_yticklabels()):\n",
    "    label.set_fontsize(12)\n",
    "ax.set_xticklabels(dates)\n",
    "\n",
    "autolabel(rects)\n",
    "plt.show()    "
   ]
  },
  {
   "cell_type": "markdown",
   "metadata": {},
   "source": [
    "### 5: Número casos por faixa etária"
   ]
  },
  {
   "cell_type": "code",
   "execution_count": null,
   "metadata": {
    "tags": []
   },
   "outputs": [],
   "source": [
    "# configuracao da base de dados\n",
    "data = confirmed_cases\n",
    "\n",
    "\n",
    "# agrupamento por faixa etaria\n",
    "groups = data.groupby(['_faixa etária'])\n",
    "age_groups = groups.groups.keys()\n",
    "cases = groups.size().array\n",
    "\n",
    "# funcao de ajuste de ordenacao especifica\n",
    "def sorting_adjustment(list_items):\n",
    "    list_aux = list(list_items)\n",
    "    aux = list_aux[2]\n",
    "    del(list_aux[2])\n",
    "    list_aux.insert(0, aux)\n",
    "    return list_aux\n",
    "\n",
    "age_groups = sorting_adjustment(age_groups)\n",
    "cases = sorting_adjustment(cases)\n",
    "\n",
    "# configuracao de construcao do grafico\n",
    "width = 0.5\n",
    "fig = plt.figure(figsize=(13,4))\n",
    "ax = fig.add_axes([0,0,1,1])\n",
    "rects = ax.bar(age_groups, cases, width, color=(0.4, 0.4, 0.4, 0.6))\n",
    "plt.xlabel('Faixa Etária', fontsize=12)\n",
    "plt.ylabel('Quantidade de casos', fontsize=12)\n",
    "plt.title('Figura 5: Quantidade de casos por faixa etária', fontsize=14)\n",
    "for label in (ax.get_xticklabels() + ax.get_yticklabels()):\n",
    "    label.set_fontsize(12)\n",
    "ax.set_xticklabels(age_groups)\n",
    "\n",
    "autolabel(rects)\n",
    "plt.show() "
   ]
  },
  {
   "cell_type": "markdown",
   "metadata": {},
   "source": [
    "### 6: Quantidade cumulativa de casos notificados ao longo do tempo"
   ]
  },
  {
   "cell_type": "code",
   "execution_count": null,
   "metadata": {
    "tags": []
   },
   "outputs": [],
   "source": [
    "# configuracao da base de dados\n",
    "data = confirmed_cases\n",
    "\n",
    "# convertendo string para objetos datetime para manipulacao e ordenacao\n",
    "data['notified_cases'] = pd.to_datetime(data['_dt_notificacao'], format=\"%d/%m/%Y\")\n",
    "data = data.sort_values(by=['notified_cases'])\n",
    "\n",
    "# agrupamento de casos por dia\n",
    "groups = data.groupby(['notified_cases'])\n",
    "\n",
    "dates_groups = groups.groups.keys()\n",
    "notified_cases = groups.size().array\n",
    "\n",
    "# Ajuste de datas faltantes\n",
    "day = min(list(dates_groups))\n",
    "days = []\n",
    "values = []\n",
    "\n",
    "one_day = dt.timedelta(days=1)\n",
    "while (day<max(list(dates_groups))):\n",
    "    if(not(day in list(dates_groups))):\n",
    "        days.append(day)\n",
    "        values.append(0)\n",
    "    day = day + one_day\n",
    "\n",
    "dates_groups, notified_cases = (list(t) for t in zip(*sorted(zip(list(dates_groups) + days, list(notified_cases) + values))))\n",
    "\n",
    "# acumulacao\n",
    "for i in range(1, len(notified_cases)):\n",
    "    notified_cases[i]+=notified_cases[i-1]\n",
    "\n",
    "x = groups.groups.keys()\n",
    "\n",
    "# configuracao de construcao do grafico\n",
    "fig = plt.figure(figsize=(13,4))\n",
    "ax = fig.add_axes([0,0,1,1])\n",
    "plt.bar(dates_groups, notified_cases, color=(0.4, 0.4, 0.4, 0.6))\n",
    "plt.xlabel('Tempo', fontsize=12)\n",
    "plt.ylabel('Quantidade de casos acumulados', fontsize=12)\n",
    "plt.title('Figura 6: Quantidade cumulativa de casos notificados ao longo do tempo', fontsize=14)\n",
    "plt.show()\n"
   ]
  },
  {
   "cell_type": "code",
   "execution_count": null,
   "metadata": {},
   "outputs": [],
   "source": []
  }
 ],
 "metadata": {
  "kernelspec": {
   "display_name": ".venv",
   "language": "python",
   "name": ".venv"
  },
  "language_info": {
   "codemirror_mode": {
    "name": "ipython",
    "version": 3
   },
   "file_extension": ".py",
   "mimetype": "text/x-python",
   "name": "python",
   "nbconvert_exporter": "python",
   "pygments_lexer": "ipython3",
   "version": "3.7.0"
  }
 },
 "nbformat": 4,
 "nbformat_minor": 4
}
