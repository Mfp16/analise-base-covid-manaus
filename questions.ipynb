{
 "cells": [
  {
   "cell_type": "code",
   "execution_count": 43,
   "metadata": {},
   "outputs": [],
   "source": [
    "import numpy as np\n",
    "import pandas as pd\n",
    "import matplotlib.pyplot as plt\n",
    "import os"
   ]
  },
  {
   "cell_type": "code",
   "execution_count": 44,
   "metadata": {},
   "outputs": [
    {
     "name": "stderr",
     "output_type": "stream",
     "text": [
      "/home/thati/venv/lib/python3.7/site-packages/IPython/core/interactiveshell.py:3146: DtypeWarning: Columns (15,22,24,30,31,32,33,35) have mixed types.Specify dtype option on import or set low_memory=False.\n",
      "  interactivity=interactivity, compiler=compiler, result=result)\n"
     ]
    }
   ],
   "source": [
    "data = pd.read_csv(os.path.join('outputs', 'base_covid_confirmado.csv'), encoding='ISO-8859-1', sep=';', header=0)"
   ]
  },
  {
   "cell_type": "code",
   "execution_count": 45,
   "metadata": {},
   "outputs": [
    {
     "data": {
      "text/html": [
       "<div>\n",
       "<style scoped>\n",
       "    .dataframe tbody tr th:only-of-type {\n",
       "        vertical-align: middle;\n",
       "    }\n",
       "\n",
       "    .dataframe tbody tr th {\n",
       "        vertical-align: top;\n",
       "    }\n",
       "\n",
       "    .dataframe thead th {\n",
       "        text-align: right;\n",
       "    }\n",
       "</style>\n",
       "<table border=\"1\" class=\"dataframe\">\n",
       "  <thead>\n",
       "    <tr style=\"text-align: right;\">\n",
       "      <th></th>\n",
       "      <th>_idade</th>\n",
       "      <th>_faixa etária</th>\n",
       "      <th>_sexo</th>\n",
       "      <th>_bairro</th>\n",
       "      <th>_classificacao</th>\n",
       "      <th>_comorb_renal</th>\n",
       "      <th>_comorb_diabetes</th>\n",
       "      <th>_comorb_imuno</th>\n",
       "      <th>_comorb_cardio</th>\n",
       "      <th>_conclusao</th>\n",
       "      <th>...</th>\n",
       "      <th>_distrito</th>\n",
       "      <th>_bairro_mapa</th>\n",
       "      <th>_comorb_respiratoria</th>\n",
       "      <th>_comorb_cromossomica</th>\n",
       "      <th>_comorb_hepatica</th>\n",
       "      <th>_comorb_neurologica</th>\n",
       "      <th>_comorb_hemato</th>\n",
       "      <th>_comorb_obessidade</th>\n",
       "      <th>_origem</th>\n",
       "      <th>_evolução</th>\n",
       "    </tr>\n",
       "  </thead>\n",
       "  <tbody>\n",
       "    <tr>\n",
       "      <th>0</th>\n",
       "      <td>37.0</td>\n",
       "      <td>30a - 39a</td>\n",
       "      <td>F</td>\n",
       "      <td>CONJ. CIDADAO 10</td>\n",
       "      <td>Confirmado</td>\n",
       "      <td>Não</td>\n",
       "      <td>Não</td>\n",
       "      <td>Não</td>\n",
       "      <td>Não</td>\n",
       "      <td>NaN</td>\n",
       "      <td>...</td>\n",
       "      <td>OESTE</td>\n",
       "      <td>TARUMÃ</td>\n",
       "      <td>Não</td>\n",
       "      <td>Não</td>\n",
       "      <td>NaN</td>\n",
       "      <td>NaN</td>\n",
       "      <td>NaN</td>\n",
       "      <td>NaN</td>\n",
       "      <td>eSUS VE,</td>\n",
       "      <td>NaN</td>\n",
       "    </tr>\n",
       "    <tr>\n",
       "      <th>1</th>\n",
       "      <td>51.0</td>\n",
       "      <td>50a - 59a</td>\n",
       "      <td>F</td>\n",
       "      <td>NaN</td>\n",
       "      <td>Confirmado</td>\n",
       "      <td>Não</td>\n",
       "      <td>Não</td>\n",
       "      <td>Não</td>\n",
       "      <td>Não</td>\n",
       "      <td>NaN</td>\n",
       "      <td>...</td>\n",
       "      <td>NaN</td>\n",
       "      <td>NaN</td>\n",
       "      <td>Não</td>\n",
       "      <td>Não</td>\n",
       "      <td>NaN</td>\n",
       "      <td>NaN</td>\n",
       "      <td>NaN</td>\n",
       "      <td>NaN</td>\n",
       "      <td>eSUS VE,</td>\n",
       "      <td>NaN</td>\n",
       "    </tr>\n",
       "    <tr>\n",
       "      <th>2</th>\n",
       "      <td>74.0</td>\n",
       "      <td>70a - 79a</td>\n",
       "      <td>M</td>\n",
       "      <td>NaN</td>\n",
       "      <td>Confirmado</td>\n",
       "      <td>Não</td>\n",
       "      <td>Não</td>\n",
       "      <td>Não</td>\n",
       "      <td>Não</td>\n",
       "      <td>NaN</td>\n",
       "      <td>...</td>\n",
       "      <td>NaN</td>\n",
       "      <td>NaN</td>\n",
       "      <td>Não</td>\n",
       "      <td>Não</td>\n",
       "      <td>NaN</td>\n",
       "      <td>NaN</td>\n",
       "      <td>NaN</td>\n",
       "      <td>NaN</td>\n",
       "      <td>eSUS VE,</td>\n",
       "      <td>NaN</td>\n",
       "    </tr>\n",
       "    <tr>\n",
       "      <th>3</th>\n",
       "      <td>51.0</td>\n",
       "      <td>50a - 59a</td>\n",
       "      <td>F</td>\n",
       "      <td>ALEIXO</td>\n",
       "      <td>Confirmado</td>\n",
       "      <td>Não</td>\n",
       "      <td>Não</td>\n",
       "      <td>Não</td>\n",
       "      <td>Não</td>\n",
       "      <td>NaN</td>\n",
       "      <td>...</td>\n",
       "      <td>SUL</td>\n",
       "      <td>ALEIXO</td>\n",
       "      <td>Não</td>\n",
       "      <td>Não</td>\n",
       "      <td>NaN</td>\n",
       "      <td>NaN</td>\n",
       "      <td>NaN</td>\n",
       "      <td>NaN</td>\n",
       "      <td>eSUS VE,</td>\n",
       "      <td>NaN</td>\n",
       "    </tr>\n",
       "    <tr>\n",
       "      <th>4</th>\n",
       "      <td>53.0</td>\n",
       "      <td>50a - 59a</td>\n",
       "      <td>M</td>\n",
       "      <td>PARQUE10</td>\n",
       "      <td>Confirmado</td>\n",
       "      <td>Não</td>\n",
       "      <td>Não</td>\n",
       "      <td>Não</td>\n",
       "      <td>Não</td>\n",
       "      <td>NaN</td>\n",
       "      <td>...</td>\n",
       "      <td>SUL</td>\n",
       "      <td>PARQUE 10 DE NOVEMBRO</td>\n",
       "      <td>Não</td>\n",
       "      <td>Não</td>\n",
       "      <td>NaN</td>\n",
       "      <td>NaN</td>\n",
       "      <td>NaN</td>\n",
       "      <td>NaN</td>\n",
       "      <td>eSUS VE,</td>\n",
       "      <td>NaN</td>\n",
       "    </tr>\n",
       "  </tbody>\n",
       "</table>\n",
       "<p>5 rows × 36 columns</p>\n",
       "</div>"
      ],
      "text/plain": [
       "   _idade _faixa etária _sexo           _bairro _classificacao _comorb_renal  \\\n",
       "0    37.0     30a - 39a     F  CONJ. CIDADAO 10     Confirmado           Não   \n",
       "1    51.0     50a - 59a     F               NaN     Confirmado           Não   \n",
       "2    74.0     70a - 79a     M               NaN     Confirmado           Não   \n",
       "3    51.0     50a - 59a     F            ALEIXO     Confirmado           Não   \n",
       "4    53.0     50a - 59a     M          PARQUE10     Confirmado           Não   \n",
       "\n",
       "  _comorb_diabetes _comorb_imuno _comorb_cardio _conclusao  ... _distrito  \\\n",
       "0              Não           Não            Não        NaN  ...     OESTE   \n",
       "1              Não           Não            Não        NaN  ...       NaN   \n",
       "2              Não           Não            Não        NaN  ...       NaN   \n",
       "3              Não           Não            Não        NaN  ...       SUL   \n",
       "4              Não           Não            Não        NaN  ...       SUL   \n",
       "\n",
       "            _bairro_mapa _comorb_respiratoria _comorb_cromossomica  \\\n",
       "0                 TARUMÃ                  Não                  Não   \n",
       "1                    NaN                  Não                  Não   \n",
       "2                    NaN                  Não                  Não   \n",
       "3                 ALEIXO                  Não                  Não   \n",
       "4  PARQUE 10 DE NOVEMBRO                  Não                  Não   \n",
       "\n",
       "  _comorb_hepatica _comorb_neurologica _comorb_hemato _comorb_obessidade  \\\n",
       "0              NaN                 NaN            NaN                NaN   \n",
       "1              NaN                 NaN            NaN                NaN   \n",
       "2              NaN                 NaN            NaN                NaN   \n",
       "3              NaN                 NaN            NaN                NaN   \n",
       "4              NaN                 NaN            NaN                NaN   \n",
       "\n",
       "     _origem _evolução  \n",
       "0  eSUS VE,        NaN  \n",
       "1  eSUS VE,        NaN  \n",
       "2  eSUS VE,        NaN  \n",
       "3  eSUS VE,        NaN  \n",
       "4  eSUS VE,        NaN  \n",
       "\n",
       "[5 rows x 36 columns]"
      ]
     },
     "execution_count": 45,
     "metadata": {},
     "output_type": "execute_result"
    }
   ],
   "source": [
    "data.head()"
   ]
  },
  {
   "cell_type": "markdown",
   "metadata": {},
   "source": [
    "## 2.1 Visão Geral dos Casos Confirmados"
   ]
  },
  {
   "cell_type": "markdown",
   "metadata": {},
   "source": [
    "### 1. Quantos atributos descrevem cada exemplo? Quais são eles?"
   ]
  },
  {
   "cell_type": "code",
   "execution_count": 46,
   "metadata": {},
   "outputs": [
    {
     "data": {
      "text/plain": [
       "Index(['_idade', '_faixa etária', '_sexo', '_bairro', '_classificacao',\n",
       "       '_comorb_renal', '_comorb_diabetes', '_comorb_imuno', '_comorb_cardio',\n",
       "       '_conclusao', '_dt_notificacao', '_taxa', '_dt_evolucao', '_raca',\n",
       "       '_dt_sintomas', '_criterio', '_tipo_teste', '_sintoma_garganta',\n",
       "       '_sintoma_dispneia', '_sintoma_febre', '_sintoma_tosse',\n",
       "       '_sintoma_outros', '_etnia', '_profiss_saude', '_srag',\n",
       "       '_se_notificacao', '_distrito', '_bairro_mapa', '_comorb_respiratoria',\n",
       "       '_comorb_cromossomica', '_comorb_hepatica', '_comorb_neurologica',\n",
       "       '_comorb_hemato', '_comorb_obessidade', '_origem', '_evolução'],\n",
       "      dtype='object')"
      ]
     },
     "execution_count": 46,
     "metadata": {},
     "output_type": "execute_result"
    }
   ],
   "source": [
    "data.columns"
   ]
  },
  {
   "cell_type": "markdown",
   "metadata": {},
   "source": [
    "### 2. Quantos casos confirmados há em Manaus, cumulativamente?"
   ]
  },
  {
   "cell_type": "code",
   "execution_count": 47,
   "metadata": {},
   "outputs": [
    {
     "data": {
      "text/plain": [
       "36947"
      ]
     },
     "execution_count": 47,
     "metadata": {},
     "output_type": "execute_result"
    }
   ],
   "source": [
    "data['_classificacao'].shape[0]"
   ]
  },
  {
   "cell_type": "markdown",
   "metadata": {},
   "source": [
    "### 3. A qual período de tempo a base de dados se refere, isto é, qual o registro mais antigo e qual o mais recente? Leve em conta a data de notificação."
   ]
  },
  {
   "cell_type": "code",
   "execution_count": 48,
   "metadata": {},
   "outputs": [],
   "source": [
    "x = pd.to_datetime(data['_dt_notificacao'], format='%d/%m/%Y')"
   ]
  },
  {
   "cell_type": "code",
   "execution_count": 49,
   "metadata": {},
   "outputs": [
    {
     "data": {
      "text/plain": [
       "_idade                                       44\n",
       "_faixa etária                         40a - 49a\n",
       "_sexo                                         F\n",
       "_bairro                             SAO GERALDO\n",
       "_classificacao                       Confirmado\n",
       "_comorb_renal                               Sim\n",
       "_comorb_diabetes                            Sim\n",
       "_comorb_imuno                               Não\n",
       "_comorb_cardio                              Sim\n",
       "_conclusao                           Recuperado\n",
       "_dt_notificacao                      30/01/2020\n",
       "_taxa                               1,230314961\n",
       "_dt_evolucao                         01/04/2020\n",
       "_raca                                     Parda\n",
       "_dt_sintomas                         29/01/2020\n",
       "_criterio                          Laboratorial\n",
       "_tipo_teste             TESTE RÁPIDO - ANTÍGENO\n",
       "_sintoma_garganta                           Não\n",
       "_sintoma_dispneia                           Sim\n",
       "_sintoma_febre                              Sim\n",
       "_sintoma_tosse                              Sim\n",
       "_sintoma_outros                             Sim\n",
       "_etnia                                      NaN\n",
       "_profiss_saude                              Não\n",
       "_srag                     SRAG não especificado\n",
       "_se_notificacao                               5\n",
       "_distrito                                   SUL\n",
       "_bairro_mapa                        SÃO GERALDO\n",
       "_comorb_respiratoria                        Não\n",
       "_comorb_cromossomica                        Não\n",
       "_comorb_hepatica                            Não\n",
       "_comorb_neurologica                         Não\n",
       "_comorb_hemato                              Não\n",
       "_comorb_obessidade                          Não\n",
       "_origem                        SIVEP, eSUS VE, \n",
       "_evolução                             Internado\n",
       "Name: 36196, dtype: object"
      ]
     },
     "execution_count": 49,
     "metadata": {},
     "output_type": "execute_result"
    }
   ],
   "source": [
    "data.loc[x.idxmin()]"
   ]
  },
  {
   "cell_type": "code",
   "execution_count": 50,
   "metadata": {},
   "outputs": [
    {
     "data": {
      "text/plain": [
       "_idade                                        49\n",
       "_faixa etária                          40a - 49a\n",
       "_sexo                                          F\n",
       "_bairro                                  BETANIA\n",
       "_classificacao                        Confirmado\n",
       "_comorb_renal                                Não\n",
       "_comorb_diabetes                             Não\n",
       "_comorb_imuno                                Não\n",
       "_comorb_cardio                               Não\n",
       "_conclusao                                   NaN\n",
       "_dt_notificacao                       06/08/2020\n",
       "_taxa                                0,801603206\n",
       "_dt_evolucao                                 NaN\n",
       "_raca                                      Parda\n",
       "_dt_sintomas                          03/07/2020\n",
       "_criterio                                    NaN\n",
       "_tipo_teste             TESTE RÁPIDO - ANTICORPO\n",
       "_sintoma_garganta                            Sim\n",
       "_sintoma_dispneia                            Não\n",
       "_sintoma_febre                               Sim\n",
       "_sintoma_tosse                               Não\n",
       "_sintoma_outros                              Sim\n",
       "_etnia                                       NaN\n",
       "_profiss_saude                               Não\n",
       "_srag                                        NaN\n",
       "_se_notificacao                               32\n",
       "_distrito                                    SUL\n",
       "_bairro_mapa                             BETÂNIA\n",
       "_comorb_respiratoria                         Não\n",
       "_comorb_cromossomica                         Não\n",
       "_comorb_hepatica                             NaN\n",
       "_comorb_neurologica                          NaN\n",
       "_comorb_hemato                               NaN\n",
       "_comorb_obessidade                           NaN\n",
       "_origem                                eSUS VE, \n",
       "_evolução                                    NaN\n",
       "Name: 20430, dtype: object"
      ]
     },
     "execution_count": 50,
     "metadata": {},
     "output_type": "execute_result"
    }
   ],
   "source": [
    "data.loc[x.idxmax()]"
   ]
  },
  {
   "cell_type": "markdown",
   "metadata": {},
   "source": [
    "## 2.2 Visualização de Dados"
   ]
  },
  {
   "cell_type": "code",
   "execution_count": 51,
   "metadata": {},
   "outputs": [],
   "source": [
    "data = pd.read_csv(os.path.join('outputs', 'base_covid_tratada.csv'), encoding='ISO-8859-1', sep=';', header=0)"
   ]
  },
  {
   "cell_type": "code",
   "execution_count": 52,
   "metadata": {},
   "outputs": [
    {
     "data": {
      "text/html": [
       "<div>\n",
       "<style scoped>\n",
       "    .dataframe tbody tr th:only-of-type {\n",
       "        vertical-align: middle;\n",
       "    }\n",
       "\n",
       "    .dataframe tbody tr th {\n",
       "        vertical-align: top;\n",
       "    }\n",
       "\n",
       "    .dataframe thead th {\n",
       "        text-align: right;\n",
       "    }\n",
       "</style>\n",
       "<table border=\"1\" class=\"dataframe\">\n",
       "  <thead>\n",
       "    <tr style=\"text-align: right;\">\n",
       "      <th></th>\n",
       "      <th>_idade</th>\n",
       "      <th>_faixa etária</th>\n",
       "      <th>_sexo</th>\n",
       "      <th>_bairro</th>\n",
       "      <th>_classificacao</th>\n",
       "      <th>_conclusao</th>\n",
       "      <th>_dt_notificacao</th>\n",
       "      <th>_tipo_teste</th>\n",
       "      <th>_distrito</th>\n",
       "      <th>_bairro_mapa</th>\n",
       "    </tr>\n",
       "  </thead>\n",
       "  <tbody>\n",
       "    <tr>\n",
       "      <th>0</th>\n",
       "      <td>25.0</td>\n",
       "      <td>20a - 29a</td>\n",
       "      <td>F</td>\n",
       "      <td>ADRIANOPOLIS</td>\n",
       "      <td>Confirmado</td>\n",
       "      <td>Recuperado</td>\n",
       "      <td>20/03/2020</td>\n",
       "      <td>RT-PCR</td>\n",
       "      <td>SUL</td>\n",
       "      <td>ADRIANÓPOLIS</td>\n",
       "    </tr>\n",
       "    <tr>\n",
       "      <th>1</th>\n",
       "      <td>41.0</td>\n",
       "      <td>40a - 49a</td>\n",
       "      <td>F</td>\n",
       "      <td>BETANIA</td>\n",
       "      <td>Confirmado</td>\n",
       "      <td>Recuperado</td>\n",
       "      <td>27/03/2020</td>\n",
       "      <td>RT-PCR</td>\n",
       "      <td>SUL</td>\n",
       "      <td>BETÂNIA</td>\n",
       "    </tr>\n",
       "    <tr>\n",
       "      <th>2</th>\n",
       "      <td>40.0</td>\n",
       "      <td>40a - 49a</td>\n",
       "      <td>F</td>\n",
       "      <td>DOM PEDRO</td>\n",
       "      <td>Confirmado</td>\n",
       "      <td>Recuperado</td>\n",
       "      <td>20/04/2020</td>\n",
       "      <td>TESTE RÁPIDO - ANTICORPO</td>\n",
       "      <td>OESTE</td>\n",
       "      <td>DOM PEDRO</td>\n",
       "    </tr>\n",
       "    <tr>\n",
       "      <th>3</th>\n",
       "      <td>50.0</td>\n",
       "      <td>50a - 59a</td>\n",
       "      <td>M</td>\n",
       "      <td>FLORES</td>\n",
       "      <td>Confirmado</td>\n",
       "      <td>Recuperado</td>\n",
       "      <td>24/04/2020</td>\n",
       "      <td>RT-PCR</td>\n",
       "      <td>SUL</td>\n",
       "      <td>FLORES</td>\n",
       "    </tr>\n",
       "    <tr>\n",
       "      <th>4</th>\n",
       "      <td>30.0</td>\n",
       "      <td>30a - 39a</td>\n",
       "      <td>M</td>\n",
       "      <td>PRESIDENTE VARGAS</td>\n",
       "      <td>Confirmado</td>\n",
       "      <td>Recuperado</td>\n",
       "      <td>23/04/2020</td>\n",
       "      <td>TESTE RÁPIDO - ANTÍGENO</td>\n",
       "      <td>SUL</td>\n",
       "      <td>PRESIDENTE VARGAS</td>\n",
       "    </tr>\n",
       "  </tbody>\n",
       "</table>\n",
       "</div>"
      ],
      "text/plain": [
       "   _idade _faixa etária _sexo            _bairro _classificacao  _conclusao  \\\n",
       "0    25.0     20a - 29a     F       ADRIANOPOLIS     Confirmado  Recuperado   \n",
       "1    41.0     40a - 49a     F            BETANIA     Confirmado  Recuperado   \n",
       "2    40.0     40a - 49a     F          DOM PEDRO     Confirmado  Recuperado   \n",
       "3    50.0     50a - 59a     M             FLORES     Confirmado  Recuperado   \n",
       "4    30.0     30a - 39a     M  PRESIDENTE VARGAS     Confirmado  Recuperado   \n",
       "\n",
       "  _dt_notificacao               _tipo_teste _distrito       _bairro_mapa  \n",
       "0      20/03/2020                    RT-PCR       SUL       ADRIANÓPOLIS  \n",
       "1      27/03/2020                    RT-PCR       SUL            BETÂNIA  \n",
       "2      20/04/2020  TESTE RÁPIDO - ANTICORPO     OESTE          DOM PEDRO  \n",
       "3      24/04/2020                    RT-PCR       SUL             FLORES  \n",
       "4      23/04/2020   TESTE RÁPIDO - ANTÍGENO       SUL  PRESIDENTE VARGAS  "
      ]
     },
     "execution_count": 52,
     "metadata": {},
     "output_type": "execute_result"
    }
   ],
   "source": [
    "data.head()"
   ]
  },
  {
   "cell_type": "markdown",
   "metadata": {},
   "source": [
    "### 1. Quantos exemplos e atributos há na base de dados após a limpeza e organização?"
   ]
  },
  {
   "cell_type": "code",
   "execution_count": 53,
   "metadata": {},
   "outputs": [
    {
     "name": "stdout",
     "output_type": "stream",
     "text": [
      "<class 'pandas.core.frame.DataFrame'>\n",
      "RangeIndex: 6214 entries, 0 to 6213\n",
      "Data columns (total 10 columns):\n",
      " #   Column           Non-Null Count  Dtype  \n",
      "---  ------           --------------  -----  \n",
      " 0   _idade           6214 non-null   float64\n",
      " 1   _faixa etária    6214 non-null   object \n",
      " 2   _sexo            6214 non-null   object \n",
      " 3   _bairro          6214 non-null   object \n",
      " 4   _classificacao   6214 non-null   object \n",
      " 5   _conclusao       6214 non-null   object \n",
      " 6   _dt_notificacao  6214 non-null   object \n",
      " 7   _tipo_teste      6214 non-null   object \n",
      " 8   _distrito        6214 non-null   object \n",
      " 9   _bairro_mapa     6214 non-null   object \n",
      "dtypes: float64(1), object(9)\n",
      "memory usage: 485.6+ KB\n"
     ]
    }
   ],
   "source": [
    "data.info()"
   ]
  },
  {
   "cell_type": "markdown",
   "metadata": {},
   "source": [
    "### 2. Qual a porcentagem de indivíduos recuperados em relação ao todo?"
   ]
  },
  {
   "cell_type": "code",
   "execution_count": 54,
   "metadata": {},
   "outputs": [
    {
     "data": {
      "text/plain": [
       "array(['Recuperado', 'Óbito'], dtype=object)"
      ]
     },
     "execution_count": 54,
     "metadata": {},
     "output_type": "execute_result"
    }
   ],
   "source": [
    "data['_conclusao'].unique()"
   ]
  },
  {
   "cell_type": "code",
   "execution_count": 55,
   "metadata": {},
   "outputs": [
    {
     "name": "stdout",
     "output_type": "stream",
     "text": [
      "A porcentagem de individuos recuperados é 99.7907949790795%\n"
     ]
    }
   ],
   "source": [
    "v = data.loc[data['_conclusao'] == 'Recuperado'].shape[0]\n",
    "print(\"A porcentagem de individuos recuperados é \", (v/data.shape[0]) * 100, \"%\", sep=\"\")"
   ]
  },
  {
   "cell_type": "code",
   "execution_count": 56,
   "metadata": {},
   "outputs": [
    {
     "name": "stdout",
     "output_type": "stream",
     "text": [
      "A porcentagem de individuos que vieram a óbito é 0.20920502092050208%\n"
     ]
    }
   ],
   "source": [
    "m = data.loc[data['_conclusao'] == 'Óbito'].shape[0]\n",
    "print(\"A porcentagem de individuos que vieram a óbito é \", (m/data.shape[0]) * 100, \"%\", sep=\"\")"
   ]
  },
  {
   "cell_type": "markdown",
   "metadata": {},
   "source": [
    "### 3. Os casos acometeram mais indivíduos do sexo masculino ou feminino?"
   ]
  },
  {
   "cell_type": "code",
   "execution_count": 57,
   "metadata": {},
   "outputs": [
    {
     "name": "stdout",
     "output_type": "stream",
     "text": [
      "Total de Casos Confirmados para o sexo Masculino: 2707\n"
     ]
    }
   ],
   "source": [
    "print(\"Total de Casos Confirmados para o sexo Masculino:\", data.loc[data['_sexo']=='M'].shape[0])"
   ]
  },
  {
   "cell_type": "code",
   "execution_count": 58,
   "metadata": {},
   "outputs": [
    {
     "name": "stdout",
     "output_type": "stream",
     "text": [
      "Total de Casos Confirmados para o sexo Feminino: 3507\n"
     ]
    }
   ],
   "source": [
    "print(\"Total de Casos Confirmados para o sexo Feminino:\", data.loc[data['_sexo']=='F'].shape[0])"
   ]
  },
  {
   "cell_type": "markdown",
   "metadata": {},
   "source": [
    "### 4. Qual a média e desvio padrão de idade dos indivíduos que contraíram COVID-19? Qual o indivíduo mais jovem e o mais idoso a contraírem tal enfermidade?"
   ]
  },
  {
   "cell_type": "code",
   "execution_count": 59,
   "metadata": {},
   "outputs": [
    {
     "data": {
      "text/plain": [
       "count    6214.000000\n",
       "mean       41.469907\n",
       "std        14.164833\n",
       "min         0.000000\n",
       "25%        33.000000\n",
       "50%        41.000000\n",
       "75%        50.000000\n",
       "max        99.000000\n",
       "Name: _idade, dtype: float64"
      ]
     },
     "execution_count": 59,
     "metadata": {},
     "output_type": "execute_result"
    }
   ],
   "source": [
    "data['_idade'].describe()"
   ]
  },
  {
   "cell_type": "markdown",
   "metadata": {},
   "source": [
    "### 5. Qual o bairro com maior incidência de casos?"
   ]
  },
  {
   "cell_type": "code",
   "execution_count": 60,
   "metadata": {},
   "outputs": [
    {
     "data": {
      "text/html": [
       "<div>\n",
       "<style scoped>\n",
       "    .dataframe tbody tr th:only-of-type {\n",
       "        vertical-align: middle;\n",
       "    }\n",
       "\n",
       "    .dataframe tbody tr th {\n",
       "        vertical-align: top;\n",
       "    }\n",
       "\n",
       "    .dataframe thead th {\n",
       "        text-align: right;\n",
       "    }\n",
       "</style>\n",
       "<table border=\"1\" class=\"dataframe\">\n",
       "  <thead>\n",
       "    <tr style=\"text-align: right;\">\n",
       "      <th></th>\n",
       "      <th>_bairro_mapa</th>\n",
       "      <th>count</th>\n",
       "    </tr>\n",
       "  </thead>\n",
       "  <tbody>\n",
       "    <tr>\n",
       "      <th>11</th>\n",
       "      <td>CIDADE NOVA</td>\n",
       "      <td>446</td>\n",
       "    </tr>\n",
       "    <tr>\n",
       "      <th>24</th>\n",
       "      <td>FLORES</td>\n",
       "      <td>295</td>\n",
       "    </tr>\n",
       "    <tr>\n",
       "      <th>58</th>\n",
       "      <td>SÃO JOSÉ OPERÁRIO</td>\n",
       "      <td>259</td>\n",
       "    </tr>\n",
       "    <tr>\n",
       "      <th>2</th>\n",
       "      <td>ALVORADA</td>\n",
       "      <td>253</td>\n",
       "    </tr>\n",
       "    <tr>\n",
       "      <th>40</th>\n",
       "      <td>PARQUE 10 DE NOVEMBRO</td>\n",
       "      <td>246</td>\n",
       "    </tr>\n",
       "    <tr>\n",
       "      <th>...</th>\n",
       "      <td>...</td>\n",
       "      <td>...</td>\n",
       "    </tr>\n",
       "    <tr>\n",
       "      <th>49</th>\n",
       "      <td>RIO NEGRO</td>\n",
       "      <td>14</td>\n",
       "    </tr>\n",
       "    <tr>\n",
       "      <th>26</th>\n",
       "      <td>GLÓRIA</td>\n",
       "      <td>10</td>\n",
       "    </tr>\n",
       "    <tr>\n",
       "      <th>6</th>\n",
       "      <td>BR-174</td>\n",
       "      <td>4</td>\n",
       "    </tr>\n",
       "    <tr>\n",
       "      <th>3</th>\n",
       "      <td>AM-010</td>\n",
       "      <td>2</td>\n",
       "    </tr>\n",
       "    <tr>\n",
       "      <th>50</th>\n",
       "      <td>RIO TARUMÃ-MIRIM</td>\n",
       "      <td>1</td>\n",
       "    </tr>\n",
       "  </tbody>\n",
       "</table>\n",
       "<p>67 rows × 2 columns</p>\n",
       "</div>"
      ],
      "text/plain": [
       "             _bairro_mapa count\n",
       "11            CIDADE NOVA   446\n",
       "24                 FLORES   295\n",
       "58      SÃO JOSÉ OPERÁRIO   259\n",
       "2                ALVORADA   253\n",
       "40  PARQUE 10 DE NOVEMBRO   246\n",
       "..                    ...   ...\n",
       "49              RIO NEGRO    14\n",
       "26                 GLÓRIA    10\n",
       "6                  BR-174     4\n",
       "3                  AM-010     2\n",
       "50       RIO TARUMÃ-MIRIM     1\n",
       "\n",
       "[67 rows x 2 columns]"
      ]
     },
     "execution_count": 60,
     "metadata": {},
     "output_type": "execute_result"
    }
   ],
   "source": [
    "casos = data.groupby('_bairro_mapa')['_bairro_mapa'].describe().reset_index().sort_values(by='count', ascending=False)\n",
    "casos[['_bairro_mapa', 'count']]"
   ]
  },
  {
   "cell_type": "markdown",
   "metadata": {},
   "source": [
    "### 6. Quais os três bairros com maior incidência de casos recuperados?"
   ]
  },
  {
   "cell_type": "code",
   "execution_count": 61,
   "metadata": {},
   "outputs": [
    {
     "data": {
      "text/html": [
       "<div>\n",
       "<style scoped>\n",
       "    .dataframe tbody tr th:only-of-type {\n",
       "        vertical-align: middle;\n",
       "    }\n",
       "\n",
       "    .dataframe tbody tr th {\n",
       "        vertical-align: top;\n",
       "    }\n",
       "\n",
       "    .dataframe thead th {\n",
       "        text-align: right;\n",
       "    }\n",
       "</style>\n",
       "<table border=\"1\" class=\"dataframe\">\n",
       "  <thead>\n",
       "    <tr style=\"text-align: right;\">\n",
       "      <th></th>\n",
       "      <th>_bairro_mapa</th>\n",
       "      <th>count</th>\n",
       "    </tr>\n",
       "  </thead>\n",
       "  <tbody>\n",
       "    <tr>\n",
       "      <th>11</th>\n",
       "      <td>CIDADE NOVA</td>\n",
       "      <td>446</td>\n",
       "    </tr>\n",
       "    <tr>\n",
       "      <th>24</th>\n",
       "      <td>FLORES</td>\n",
       "      <td>295</td>\n",
       "    </tr>\n",
       "    <tr>\n",
       "      <th>58</th>\n",
       "      <td>SÃO JOSÉ OPERÁRIO</td>\n",
       "      <td>259</td>\n",
       "    </tr>\n",
       "    <tr>\n",
       "      <th>2</th>\n",
       "      <td>ALVORADA</td>\n",
       "      <td>253</td>\n",
       "    </tr>\n",
       "    <tr>\n",
       "      <th>40</th>\n",
       "      <td>PARQUE 10 DE NOVEMBRO</td>\n",
       "      <td>246</td>\n",
       "    </tr>\n",
       "    <tr>\n",
       "      <th>...</th>\n",
       "      <td>...</td>\n",
       "      <td>...</td>\n",
       "    </tr>\n",
       "    <tr>\n",
       "      <th>49</th>\n",
       "      <td>RIO NEGRO</td>\n",
       "      <td>14</td>\n",
       "    </tr>\n",
       "    <tr>\n",
       "      <th>26</th>\n",
       "      <td>GLÓRIA</td>\n",
       "      <td>10</td>\n",
       "    </tr>\n",
       "    <tr>\n",
       "      <th>6</th>\n",
       "      <td>BR-174</td>\n",
       "      <td>4</td>\n",
       "    </tr>\n",
       "    <tr>\n",
       "      <th>3</th>\n",
       "      <td>AM-010</td>\n",
       "      <td>2</td>\n",
       "    </tr>\n",
       "    <tr>\n",
       "      <th>50</th>\n",
       "      <td>RIO TARUMÃ-MIRIM</td>\n",
       "      <td>1</td>\n",
       "    </tr>\n",
       "  </tbody>\n",
       "</table>\n",
       "<p>67 rows × 2 columns</p>\n",
       "</div>"
      ],
      "text/plain": [
       "             _bairro_mapa count\n",
       "11            CIDADE NOVA   446\n",
       "24                 FLORES   295\n",
       "58      SÃO JOSÉ OPERÁRIO   259\n",
       "2                ALVORADA   253\n",
       "40  PARQUE 10 DE NOVEMBRO   246\n",
       "..                    ...   ...\n",
       "49              RIO NEGRO    14\n",
       "26                 GLÓRIA    10\n",
       "6                  BR-174     4\n",
       "3                  AM-010     2\n",
       "50       RIO TARUMÃ-MIRIM     1\n",
       "\n",
       "[67 rows x 2 columns]"
      ]
     },
     "execution_count": 61,
     "metadata": {},
     "output_type": "execute_result"
    }
   ],
   "source": [
    "casos = data.loc[data['_conclusao'] == 'Recuperado'].groupby(['_bairro_mapa'])['_bairro_mapa'].describe().reset_index().sort_values(by='count', ascending=False)\n",
    "casos[['_bairro_mapa', 'count']]"
   ]
  },
  {
   "cell_type": "markdown",
   "metadata": {},
   "source": [
    "### 7. Quais os tipos de testes efetuados, segundo os dados? Indique os dados de maneira quantitativa e percentual."
   ]
  },
  {
   "cell_type": "code",
   "execution_count": 62,
   "metadata": {},
   "outputs": [
    {
     "data": {
      "text/html": [
       "<div>\n",
       "<style scoped>\n",
       "    .dataframe tbody tr th:only-of-type {\n",
       "        vertical-align: middle;\n",
       "    }\n",
       "\n",
       "    .dataframe tbody tr th {\n",
       "        vertical-align: top;\n",
       "    }\n",
       "\n",
       "    .dataframe thead th {\n",
       "        text-align: right;\n",
       "    }\n",
       "</style>\n",
       "<table border=\"1\" class=\"dataframe\">\n",
       "  <thead>\n",
       "    <tr style=\"text-align: right;\">\n",
       "      <th></th>\n",
       "      <th>_tipo_teste</th>\n",
       "      <th>count</th>\n",
       "      <th>_porcentagem</th>\n",
       "    </tr>\n",
       "  </thead>\n",
       "  <tbody>\n",
       "    <tr>\n",
       "      <th>0</th>\n",
       "      <td>ECLIA IgG</td>\n",
       "      <td>4</td>\n",
       "      <td>0.0643708</td>\n",
       "    </tr>\n",
       "    <tr>\n",
       "      <th>1</th>\n",
       "      <td>ELISA IgM</td>\n",
       "      <td>6</td>\n",
       "      <td>0.0965562</td>\n",
       "    </tr>\n",
       "    <tr>\n",
       "      <th>2</th>\n",
       "      <td>RT-PCR</td>\n",
       "      <td>1501</td>\n",
       "      <td>24.1551</td>\n",
       "    </tr>\n",
       "    <tr>\n",
       "      <th>3</th>\n",
       "      <td>TESTE RÁPIDO - ANTICORPO</td>\n",
       "      <td>3602</td>\n",
       "      <td>57.9659</td>\n",
       "    </tr>\n",
       "    <tr>\n",
       "      <th>4</th>\n",
       "      <td>TESTE RÁPIDO - ANTÍGENO</td>\n",
       "      <td>1101</td>\n",
       "      <td>17.7181</td>\n",
       "    </tr>\n",
       "  </tbody>\n",
       "</table>\n",
       "</div>"
      ],
      "text/plain": [
       "                _tipo_teste count _porcentagem\n",
       "0                 ECLIA IgG     4    0.0643708\n",
       "1                 ELISA IgM     6    0.0965562\n",
       "2                    RT-PCR  1501      24.1551\n",
       "3  TESTE RÁPIDO - ANTICORPO  3602      57.9659\n",
       "4   TESTE RÁPIDO - ANTÍGENO  1101      17.7181"
      ]
     },
     "execution_count": 62,
     "metadata": {},
     "output_type": "execute_result"
    }
   ],
   "source": [
    "testes = data.groupby(['_tipo_teste'])['_tipo_teste'].describe().reset_index()\n",
    "testes['_porcentagem'] = (testes['count'] / data.shape[0]) * 100\n",
    "testes[['_tipo_teste', 'count', '_porcentagem']]"
   ]
  },
  {
   "cell_type": "markdown",
   "metadata": {},
   "source": [
    "### 8. Qual taxa de letalidade pode ser calculada a partir do conjunto de dados? Para calcular esta taxa, considere a fração do total de óbitos pelo total de casos;"
   ]
  },
  {
   "cell_type": "code",
   "execution_count": 63,
   "metadata": {},
   "outputs": [
    {
     "name": "stdout",
     "output_type": "stream",
     "text": [
      "A taxa de letalidade é de 0.20920502092050208%\n"
     ]
    }
   ],
   "source": [
    "obitos = data.loc[data['_conclusao'] == 'Óbito'].shape[0] / data.shape[0]\n",
    "print('A taxa de letalidade é de ', obitos * 100, '%', sep='')"
   ]
  },
  {
   "cell_type": "markdown",
   "metadata": {},
   "source": [
    "### 9. Qual o tipo de correlação, mediante coeficiente de correlação de Pearson, entre a idade e o número de casos? Para responder a esta pergunte, agrupe o número de casos por idade e efetue o cálculo de tal coeficiente. Indique, a partir do resultado, a natureza desta correlação, se é positiva ou negativa, e qual sua intensidade."
   ]
  },
  {
   "cell_type": "code",
   "execution_count": 64,
   "metadata": {},
   "outputs": [
    {
     "data": {
      "text/html": [
       "<div>\n",
       "<style scoped>\n",
       "    .dataframe tbody tr th:only-of-type {\n",
       "        vertical-align: middle;\n",
       "    }\n",
       "\n",
       "    .dataframe tbody tr th {\n",
       "        vertical-align: top;\n",
       "    }\n",
       "\n",
       "    .dataframe thead th {\n",
       "        text-align: right;\n",
       "    }\n",
       "</style>\n",
       "<table border=\"1\" class=\"dataframe\">\n",
       "  <thead>\n",
       "    <tr style=\"text-align: right;\">\n",
       "      <th></th>\n",
       "      <th>_idade</th>\n",
       "      <th>count</th>\n",
       "    </tr>\n",
       "  </thead>\n",
       "  <tbody>\n",
       "    <tr>\n",
       "      <th>_idade</th>\n",
       "      <td>1.00000</td>\n",
       "      <td>-0.22462</td>\n",
       "    </tr>\n",
       "    <tr>\n",
       "      <th>count</th>\n",
       "      <td>-0.22462</td>\n",
       "      <td>1.00000</td>\n",
       "    </tr>\n",
       "  </tbody>\n",
       "</table>\n",
       "</div>"
      ],
      "text/plain": [
       "         _idade    count\n",
       "_idade  1.00000 -0.22462\n",
       "count  -0.22462  1.00000"
      ]
     },
     "execution_count": 64,
     "metadata": {},
     "output_type": "execute_result"
    }
   ],
   "source": [
    "corr = data.groupby('_idade')['_idade'].describe().reset_index()\n",
    "corr[['_idade', 'count']].corr()"
   ]
  }
 ],
 "metadata": {
  "kernelspec": {
   "display_name": "venv",
   "language": "python",
   "name": "venv"
  },
  "language_info": {
   "codemirror_mode": {
    "name": "ipython",
    "version": 3
   },
   "file_extension": ".py",
   "mimetype": "text/x-python",
   "name": "python",
   "nbconvert_exporter": "python",
   "pygments_lexer": "ipython3",
   "version": "3.7.0"
  }
 },
 "nbformat": 4,
 "nbformat_minor": 4
}
